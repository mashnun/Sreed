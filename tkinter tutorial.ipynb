{
 "cells": [
  {
   "cell_type": "code",
   "execution_count": 42,
   "metadata": {},
   "outputs": [],
   "source": [
    "from tkinter import *"
   ]
  },
  {
   "cell_type": "code",
   "execution_count": 43,
   "metadata": {},
   "outputs": [],
   "source": [
    "root = Tk()\n",
    "root.minsize(500,500)"
   ]
  },
  {
   "cell_type": "code",
   "execution_count": 23,
   "metadata": {},
   "outputs": [],
   "source": [
    "entry2 = Entry(root, width = 50, bg='blue', fg='#ffffff', borderwidth=5).pack()"
   ]
  },
  {
   "cell_type": "code",
   "execution_count": 18,
   "metadata": {},
   "outputs": [],
   "source": [
    "def myClick():\n",
    "    myLabel = Label(root, text='Created a Button').pack()"
   ]
  },
  {
   "cell_type": "code",
   "execution_count": 11,
   "metadata": {},
   "outputs": [],
   "source": [
    "\n",
    "myButton1 = Button(root, text=\"Start\", command=myClick, fg='blue', bg='red').pack()\n",
    "myButton2 = Button(root, text='Stop', state=DISABLED, padx=20, pady=20).pack()\n",
    "root.mainloop()"
   ]
  },
  {
   "cell_type": "code",
   "execution_count": 44,
   "metadata": {},
   "outputs": [
    {
     "name": "stderr",
     "output_type": "stream",
     "text": [
      "Exception in Tkinter callback\n",
      "Traceback (most recent call last):\n",
      "  File \"C:\\Users\\javed\\anaconda3\\lib\\tkinter\\__init__.py\", line 1883, in __call__\n",
      "    return self.func(*args)\n",
      "  File \"<ipython-input-44-81b08a5c3f73>\", line 5, in <lambda>\n",
      "    r1 = Radiobutton(root, text=\"Option 1\", variable=var, value=1, command=lambda: Clicked(r.get())).pack()\n",
      "NameError: name 'Clicked' is not defined\n",
      "Exception in Tkinter callback\n",
      "Traceback (most recent call last):\n",
      "  File \"C:\\Users\\javed\\anaconda3\\lib\\tkinter\\__init__.py\", line 1883, in __call__\n",
      "    return self.func(*args)\n",
      "  File \"<ipython-input-44-81b08a5c3f73>\", line 6, in <lambda>\n",
      "    r2 = Radiobutton(root, text=\"Option 2\", variable=var, value=2, command=lambda: Clicked(r.get())).pack()\n",
      "NameError: name 'Clicked' is not defined\n",
      "Exception in Tkinter callback\n",
      "Traceback (most recent call last):\n",
      "  File \"C:\\Users\\javed\\anaconda3\\lib\\tkinter\\__init__.py\", line 1883, in __call__\n",
      "    return self.func(*args)\n",
      "  File \"<ipython-input-44-81b08a5c3f73>\", line 7, in <lambda>\n",
      "    r3 = Radiobutton(root, text=\"Option 3\", variable=var, value=3, command=lambda: Clicked(r.get())).pack()\n",
      "NameError: name 'Clicked' is not defined\n",
      "Exception in Tkinter callback\n",
      "Traceback (most recent call last):\n",
      "  File \"C:\\Users\\javed\\anaconda3\\lib\\tkinter\\__init__.py\", line 1883, in __call__\n",
      "    return self.func(*args)\n",
      "  File \"<ipython-input-44-81b08a5c3f73>\", line 5, in <lambda>\n",
      "    r1 = Radiobutton(root, text=\"Option 1\", variable=var, value=1, command=lambda: Clicked(r.get())).pack()\n",
      "NameError: name 'Clicked' is not defined\n",
      "Exception in Tkinter callback\n",
      "Traceback (most recent call last):\n",
      "  File \"C:\\Users\\javed\\anaconda3\\lib\\tkinter\\__init__.py\", line 1883, in __call__\n",
      "    return self.func(*args)\n",
      "  File \"<ipython-input-44-81b08a5c3f73>\", line 6, in <lambda>\n",
      "    r2 = Radiobutton(root, text=\"Option 2\", variable=var, value=2, command=lambda: Clicked(r.get())).pack()\n",
      "NameError: name 'Clicked' is not defined\n",
      "Exception in Tkinter callback\n",
      "Traceback (most recent call last):\n",
      "  File \"C:\\Users\\javed\\anaconda3\\lib\\tkinter\\__init__.py\", line 1883, in __call__\n",
      "    return self.func(*args)\n",
      "  File \"<ipython-input-44-81b08a5c3f73>\", line 7, in <lambda>\n",
      "    r3 = Radiobutton(root, text=\"Option 3\", variable=var, value=3, command=lambda: Clicked(r.get())).pack()\n",
      "NameError: name 'Clicked' is not defined\n",
      "Exception in Tkinter callback\n",
      "Traceback (most recent call last):\n",
      "  File \"C:\\Users\\javed\\anaconda3\\lib\\tkinter\\__init__.py\", line 1883, in __call__\n",
      "    return self.func(*args)\n",
      "  File \"<ipython-input-44-81b08a5c3f73>\", line 5, in <lambda>\n",
      "    r1 = Radiobutton(root, text=\"Option 1\", variable=var, value=1, command=lambda: Clicked(r.get())).pack()\n",
      "NameError: name 'Clicked' is not defined\n"
     ]
    }
   ],
   "source": [
    "def clicked(value):\n",
    "    myLabel = Label(root, text=value).pack()\n",
    "\n",
    "r = IntVar()\n",
    "r1 = Radiobutton(root, text=\"Option 1\", variable=var, value=1, command=lambda: Clicked(r.get())).pack()\n",
    "r2 = Radiobutton(root, text=\"Option 2\", variable=var, value=2, command=lambda: Clicked(r.get())).pack()\n",
    "r3 = Radiobutton(root, text=\"Option 3\", variable=var, value=3, command=lambda: Clicked(r.get())).pack()\n",
    "\n",
    "root.mainloop()"
   ]
  },
  {
   "cell_type": "code",
   "execution_count": null,
   "metadata": {},
   "outputs": [],
   "source": []
  }
 ],
 "metadata": {
  "kernelspec": {
   "display_name": "Python 3",
   "language": "python",
   "name": "python3"
  },
  "language_info": {
   "codemirror_mode": {
    "name": "ipython",
    "version": 3
   },
   "file_extension": ".py",
   "mimetype": "text/x-python",
   "name": "python",
   "nbconvert_exporter": "python",
   "pygments_lexer": "ipython3",
   "version": "3.8.5"
  }
 },
 "nbformat": 4,
 "nbformat_minor": 4
}
